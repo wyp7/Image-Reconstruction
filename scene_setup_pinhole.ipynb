{
 "cells": [
  {
   "cell_type": "markdown",
   "id": "31739010-f673-4a4d-9b82-3a3649bc7c46",
   "metadata": {},
   "source": [
    "# Scene configuration for 3D reconstruction of Atom Cloud\n",
    "\n",
    "In this version, we simulate the image using the pin-hole model as a replacement of a lens"
   ]
  },
  {
   "cell_type": "code",
   "execution_count": 1,
   "id": "55f8920e-d1b4-4a5e-9e33-69e5c2a011a7",
   "metadata": {},
   "outputs": [
    {
     "name": "stderr",
     "output_type": "stream",
     "text": [
      "/projects/p30957/envs/pytorch-1.11-py38-alt-2/lib/python3.8/site-packages/tqdm/auto.py:21: TqdmWarning: IProgress not found. Please update jupyter and ipywidgets. See https://ipywidgets.readthedocs.io/en/stable/user_install.html\n",
      "  from .autonotebook import tqdm as notebook_tqdm\n"
     ]
    }
   ],
   "source": [
    "import gradoptics as optics\n",
    "from gradoptics.transforms.simple_transform import SimpleTransform\n",
    "from gradoptics.integrator import HierarchicalSamplingIntegrator\n",
    "\n",
    "import numpy as np\n",
    "import matplotlib.pyplot as plt\n",
    "import torch\n",
    "import torch.nn as nn\n",
    "from tqdm import tqdm\n",
    "import pickle\n",
    "import cv2"
   ]
  },
  {
   "cell_type": "markdown",
   "id": "e940d913-16d0-4bac-b6ab-6fa0be35b916",
   "metadata": {},
   "source": [
    "## Import images from apparatus \n",
    "images were preprocessed and saved as pkl, with a range corresponds to unit8 ([0,255])"
   ]
  },
  {
   "cell_type": "code",
   "execution_count": 2,
   "id": "5fc3bf6a-c0df-43eb-8c53-7e81493b6d57",
   "metadata": {},
   "outputs": [],
   "source": [
    "# this is in the order for camera: X1,X2,Y1,Z1\n",
    "camera_list = ['T1_0','T2_0','L_0','F_0']\n",
    "data_intensities_all = []\n",
    "\n",
    "#load preprocessed images\n",
    "for idx,cam in enumerate(camera_list): \n",
    "    with open(cam+'.pkl', 'rb') as f:\n",
    "        data_intensities_all.append(pickle.load(f).T.astype(np.float64))\n",
    "        "
   ]
  },
  {
   "cell_type": "markdown",
   "id": "52af89b7-3093-425b-ba33-1be1f8a6fe29",
   "metadata": {},
   "source": [
    "obtain shape of the image samples to be used as resolutions of corresponding cameras"
   ]
  },
  {
   "cell_type": "code",
   "execution_count": 3,
   "id": "34aeb48b-f03b-438a-9ac0-85af4c1249fb",
   "metadata": {},
   "outputs": [
    {
     "name": "stdout",
     "output_type": "stream",
     "text": [
      "[(758, 800), (1000, 1066), (1400, 1100), (1600, 1600)]\n"
     ]
    }
   ],
   "source": [
    "cam_res = []\n",
    "for i in range(len(camera_list)):\n",
    "    cam_res.append(data_intensities_all[i].shape)\n",
    "\n",
    "print(cam_res)"
   ]
  },
  {
   "cell_type": "markdown",
   "id": "ef80b877-bbd6-49f5-bd30-46a6fac26bf5",
   "metadata": {},
   "source": [
    "## Camera parameters"
   ]
  },
  {
   "cell_type": "code",
   "execution_count": 4,
   "id": "9612a5f6-c02b-4507-a1ea-8b415d7729fd",
   "metadata": {},
   "outputs": [],
   "source": [
    "def inch_to_m(inch):\n",
    "    # 1 in is 2.54 cm\n",
    "    return 0.0254*inch"
   ]
  },
  {
   "cell_type": "code",
   "execution_count": 5,
   "id": "4a6d7fc2-12dc-47f2-bd80-7ca82d582420",
   "metadata": {},
   "outputs": [],
   "source": [
    "obj_pos = torch.tensor([0., 0., 0.])\n",
    "\n",
    "camera_dist_x1 = inch_to_m(5)\n",
    "camera_dist_x2 = inch_to_m(2.5)\n",
    "camera_dist_y1 = inch_to_m(3.5)\n",
    "camera_dist_z1 = inch_to_m(2.5)\n",
    "\n",
    "x1_to_center = inch_to_m(14.5)\n",
    "x2_to_center = inch_to_m(14.5)\n",
    "y1_to_center = inch_to_m(17.)\n",
    "z1_to_center = inch_to_m(11.5)\n",
    "\n",
    "# Angle from positive x-axis\n",
    "angle_x1 = np.radians(53.) #37.\n",
    "angle_x2 = np.radians(45.+180.)\n",
    "angle_y1 = np.radians(-45.)"
   ]
  },
  {
   "cell_type": "code",
   "execution_count": 6,
   "id": "9ead1067-a756-46a6-8db3-df37f561cec8",
   "metadata": {},
   "outputs": [],
   "source": [
    "obj_pos = torch.tensor([0., 0., 0.])\n",
    "\n",
    "camera_dist_x1 = inch_to_m(5)\n",
    "camera_dist_x2 = inch_to_m(2.5)\n",
    "camera_dist_y1 = inch_to_m(3.5)\n",
    "camera_dist_z1 = inch_to_m(2.5)\n",
    "\n",
    "x1_to_center = inch_to_m(14.5)\n",
    "x2_to_center = inch_to_m(14.5)\n",
    "y1_to_center = inch_to_m(17.)\n",
    "z1_to_center = inch_to_m(11.5)\n",
    "\n",
    "# Angle from positive x-axis\n",
    "angle_x1 = np.radians(53.) #37.\n",
    "angle_x2 = np.radians(45.+180.)\n",
    "angle_y1 = np.radians(-45.)"
   ]
  },
  {
   "cell_type": "code",
   "execution_count": 7,
   "id": "dcd086f8-beb9-408a-9861-f58169dbe143",
   "metadata": {},
   "outputs": [],
   "source": [
    "camera_params = [\n",
    "    {'name' : 'X_1', \n",
    "     'position' : ((x1_to_center+camera_dist_x1)*np.cos(angle_x1), \n",
    "                   0., (x1_to_center+camera_dist_x1)*np.sin(angle_x1)),\n",
    "     'orientation' : (0, angle_x1+np.pi, 0), \n",
    "     'm' : 0.1, \n",
    "     'aperture' : inch_to_m(2.),\n",
    "     'pixel_size':(3.45e-06, 3.45e-06),\n",
    "     'resolution':cam_res[0],\n",
    "     'distance':x1_to_center+camera_dist_x1,\n",
    "    },\n",
    "    \n",
    "    {'name' : 'X_2', \n",
    "     'position' : ((x2_to_center+camera_dist_x2)*np.cos(angle_x2), \n",
    "                   0., (x2_to_center+camera_dist_x2)*np.sin(angle_x2)),\n",
    "     'orientation' : (0, angle_x2+np.pi, 0),\n",
    "     'm' : 0.089,\n",
    "     'aperture' : inch_to_m(2.),\n",
    "     'pixel_size':(3.45e-06, 3.45e-06),\n",
    "     'resolution':cam_res[1],\n",
    "     'distance':x2_to_center+camera_dist_x2\n",
    "    },\n",
    "    \n",
    "    {'name' : 'Y_1', \n",
    "     'position' : ((y1_to_center+camera_dist_y1)*np.cos(angle_y1),\n",
    "                   0, (y1_to_center+camera_dist_y1)*np.sin(angle_y1)),\n",
    "     'orientation' : (0, angle_y1+np.pi, 0), \n",
    "     'm' : 0.088, \n",
    "     'aperture' : inch_to_m(2.),\n",
    "     'pixel_size':(3.45e-06, 3.45e-06),\n",
    "     'resolution':cam_res[2],\n",
    "     'distance':y1_to_center+camera_dist_y1\n",
    "    },\n",
    "    \n",
    "    {'name' : 'Z_1', \n",
    "     'position' : (0, (z1_to_center+camera_dist_z1), 0,),\n",
    "     'orientation' : (0, 0, -np.pi/2),\n",
    "     'm' : 0.11*2.4/3.45,\n",
    "     'aperture' : inch_to_m(2.),\n",
    "     'pixel_size':(3.45e-06, 3.45e-06),\n",
    "     'resolution':cam_res[3],\n",
    "     'distance':z1_to_center+camera_dist_z1\n",
    "    }\n",
    "]"
   ]
  },
  {
   "cell_type": "code",
   "execution_count": 8,
   "id": "127b6e03-3ef6-4eb7-91a4-4a8ec26cc67e",
   "metadata": {},
   "outputs": [],
   "source": [
    "def calculate_focal_length(m, obj_distance):\n",
    "    f =  obj_distance / ((1 / m) + 1)\n",
    "    return f\n",
    "\n",
    "def calculate_obj_distance(obj_pos, camera_pos):\n",
    "    return torch.sqrt(((torch.tensor(camera_pos)-obj_pos)**2).sum()).item()"
   ]
  },
  {
   "cell_type": "code",
   "execution_count": 9,
   "id": "688a5a24-6f60-4258-bf16-9a67cc8b759f",
   "metadata": {},
   "outputs": [],
   "source": [
    "for i in range(len(camera_params)):\n",
    "    camera_params[i]['obj_dist'] = calculate_obj_distance(obj_pos, camera_params[i]['position'])\n",
    "    camera_params[i]['f'] = calculate_focal_length(camera_params[i]['m'], \n",
    "                                                   camera_params[i]['obj_dist'])\n",
    "    camera_params[i]['na'] = camera_params[i]['aperture']/camera_params[i]['f']"
   ]
  },
  {
   "cell_type": "markdown",
   "id": "59fec49e-7955-4a08-acce-9b9ee61d802a",
   "metadata": {},
   "source": [
    "## Construct scene"
   ]
  },
  {
   "cell_type": "code",
   "execution_count": 10,
   "id": "94f3c24a-c8e4-4c2d-b20f-cf7b1bcfdef7",
   "metadata": {},
   "outputs": [],
   "source": [
    "# Atom cloud\n",
    "light_source = optics.LightSourceFromDistribution(optics.AtomCloud(phi=0.1, w0=0.005, k_fringe=0,\n",
    "                                                                   position=[0., 0., 0.]))\n",
    "\n",
    "scene = optics.Scene(light_source)\n",
    "\n",
    "# add cameras and lens to scene as objects (in world space)\n",
    "for camera in camera_params:\n",
    "    transform = SimpleTransform(*camera['orientation'], camera['position'])\n",
    "    lens = optics.PerfectLens(f=camera['f'], m=camera['m'], na=camera['na'],\n",
    "                              position = camera['position'],\n",
    "                              transform=transform)\n",
    "                              \n",
    "    rel_position = torch.tensor([-camera['f'] * (1 + camera['m']), 0, 0])                       \n",
    "    rot_position = torch.matmul(transform.transform.float(), torch.cat((rel_position, torch.tensor([0]))))\n",
    "    \n",
    "    sensor_position = torch.tensor(camera['position']) + rot_position[:-1]\n",
    "    viewing_direction = torch.matmul(transform.transform.float(), torch.tensor([1.,0,0,0]))\n",
    "    \n",
    "    sensor = optics.Sensor(position=sensor_position, viewing_direction=tuple(viewing_direction.numpy()),\n",
    "                           resolution=camera['resolution'], pixel_size=camera['pixel_size'],\n",
    "                           poisson_noise_mean=2.31, quantum_efficiency=0.72)\n",
    "    scene.add_object(sensor)\n",
    "    scene.add_object(lens)\n"
   ]
  },
  {
   "cell_type": "markdown",
   "id": "197d6505-b10d-4485-ab09-ada69e1f7771",
   "metadata": {},
   "source": [
    "display geometric relation of all objects in the scene"
   ]
  },
  {
   "cell_type": "code",
   "execution_count": 11,
   "id": "b24aa945-39d0-42b6-974f-9799f6047b3a",
   "metadata": {},
   "outputs": [
    {
     "name": "stderr",
     "output_type": "stream",
     "text": [
      "/projects/p30957/envs/pytorch-1.11-py38-alt-2/lib/python3.8/site-packages/torch/functional.py:568: UserWarning: torch.meshgrid: in an upcoming release, it will be required to pass the indexing argument. (Triggered internally at  /home/conda/feedstock_root/build_artifacts/pytorch-recipe_1650922114512/work/aten/src/ATen/native/TensorShape.cpp:2227.)\n",
      "  return _VF.meshgrid(tensors, **kwargs)  # type: ignore[attr-defined]\n"
     ]
    },
    {
     "data": {
      "image/png": "[encoded data removed]",
      "text/plain": [
       "<Figure size 640x480 with 1 Axes>"
      ]
     },
     "metadata": {},
     "output_type": "display_data"
    }
   ],
   "source": [
    "fig = plt.figure()\n",
    "ax = fig.add_subplot(projection='3d')\n",
    "scene.plot(ax)\n",
    "ax.view_init(0, -90)"
   ]
  },
  {
   "cell_type": "markdown",
   "id": "7c4c20ad-3774-4b9e-9b78-c5cff2196bcc",
   "metadata": {},
   "source": [
    "list of objects"
   ]
  },
  {
   "cell_type": "code",
   "execution_count": 12,
   "id": "b90cebab-7692-4faa-9a5e-ed5b25e92261",
   "metadata": {},
   "outputs": [
    {
     "data": {
      "text/plain": [
       "[<gradoptics.optics.sensor.Sensor at 0x2b72716e5580>,\n",
       " <gradoptics.optics.lens.PerfectLens at 0x2b72702d70a0>,\n",
       " <gradoptics.optics.sensor.Sensor at 0x2b72716e5760>,\n",
       " <gradoptics.optics.lens.PerfectLens at 0x2b72716e56a0>,\n",
       " <gradoptics.optics.sensor.Sensor at 0x2b72716e5880>,\n",
       " <gradoptics.optics.lens.PerfectLens at 0x2b72716e5850>,\n",
       " <gradoptics.optics.sensor.Sensor at 0x2b72716e59a0>,\n",
       " <gradoptics.optics.lens.PerfectLens at 0x2b72716e5970>]"
      ]
     },
     "execution_count": 12,
     "metadata": {},
     "output_type": "execute_result"
    }
   ],
   "source": [
    "scene.objects"
   ]
  },
  {
   "cell_type": "markdown",
   "id": "82d23fca-1654-427d-af54-a8093b0069f4",
   "metadata": {},
   "source": [
    "Export scene model to be used for reconstruction"
   ]
  },
  {
   "cell_type": "code",
   "execution_count": 13,
   "id": "df65391d-6bdd-4f7c-8e2e-708aa3a09623",
   "metadata": {},
   "outputs": [],
   "source": [
    "with open(\"NW_mot_scene_components.pkl\", \"wb\") as f:\n",
    "    pickle.dump(scene.objects, f)"
   ]
  },
  {
   "cell_type": "markdown",
   "id": "cc50bb13-047e-46cb-9b63-907a60f332f7",
   "metadata": {},
   "source": [
    "## Simulation and Normalization for real data"
   ]
  },
  {
   "cell_type": "code",
   "execution_count": 14,
   "id": "acb2cf2f-ed5d-4341-9824-f8b58d6e0622",
   "metadata": {},
   "outputs": [],
   "source": [
    "# Define an integrator\n",
    "integrator = HierarchicalSamplingIntegrator(64, 64)\n",
    "\n",
    "# Define a bounding shape to integrate in\n",
    "scene.light_source.bounding_shape = optics.BoundingSphere(radii=0.03, xc=0, yc=0, zc=0)\n",
    "\n",
    "# Enclose the scene in a large bounding sphere\n",
    "scene.add_object(optics.BoundingSphere(xc=0, yc=0, zc=0, radii=10.))"
   ]
  },
  {
   "cell_type": "markdown",
   "id": "befbafb3-d686-429c-89f3-e4632b07b6ad",
   "metadata": {},
   "source": [
    "ray-trace using the pin-hole model"
   ]
  },
  {
   "cell_type": "code",
   "execution_count": null,
   "id": "a32acd78-2caf-4e36-a2d0-f81d247c9435",
   "metadata": {},
   "outputs": [
    {
     "name": "stderr",
     "output_type": "stream",
     "text": [
      "100%|█████████████████████████████████████████████| 4/4 [00:01<00:00,  3.77it/s]\n",
      " 67%|██████████████████████████████               | 4/6 [00:00<00:00,  8.54it/s]"
     ]
    }
   ],
   "source": [
    "pixel_batch = 200000\n",
    "sim_intensities_all = []\n",
    "for i,obj in enumerate(scene.objects):\n",
    "    if type(obj) == optics.Sensor:\n",
    "        sensor = scene.objects[i]\n",
    "        lens = scene.objects[i+1]\n",
    "        \n",
    "        # Define pixel indices\n",
    "        idxs = torch.cartesian_prod(torch.arange(sensor.resolution[0]//2, -sensor.resolution[0]//2, -1), \n",
    "                            torch.arange(sensor.resolution[1]//2, -sensor.resolution[1]//2, -1))\n",
    "\n",
    "        pix_x, pix_y = idxs.T\n",
    "\n",
    "        # Batch over them for rendering -- I used a large GPU\n",
    "        batch_pix_x = pix_x.split(pixel_batch)\n",
    "        batch_pix_y = pix_y.split(pixel_batch)\n",
    "\n",
    "        intensities_all = []\n",
    "        \n",
    "        device = 'cuda'\n",
    "        lens_pos = scene.objects[i+1].transform.transform[:-1, -1].to(device)       \n",
    "        \n",
    "        for j in tqdm(range(len(batch_pix_x))):\n",
    "            nb_pixels = len(batch_pix_x[j])\n",
    "                        \n",
    "            origins = torch.zeros((nb_pixels,3),device = device,dtype = torch.float64)\n",
    "            origins[:,0] = (batch_pix_x[j].to(device)-.5)* sensor.pixel_size[0]\n",
    "            origins[:,1] = (batch_pix_y[j].to(device)-.5)* sensor.pixel_size[1]\n",
    "            origins = sensor.c2w.apply_transform_(origins.reshape(-1, 3)).reshape((nb_pixels, 3))\n",
    "            pA = 1 / (sensor.resolution[0] * sensor.pixel_size[0] * sensor.resolution[1] * sensor.pixel_size[1])         \n",
    "            # directions of rays: from points on sensor to pin-hole\n",
    "            directions = lens_pos - origins\n",
    "            directions = directions/torch.norm(directions, dim=1, keepdim=True)  \n",
    "           \n",
    "            outgoing_rays = optics.Rays(origins, directions, device='cuda')\n",
    "            intensities_all.append(optics.backward_ray_tracing(outgoing_rays,scene, scene.light_source,integrator, max_iterations=6))\n",
    "\n",
    "        sim_intensities = torch.cat(intensities_all).reshape(sensor.resolution)\n",
    "        sim_intensities_all.append(sim_intensities.clone())\n",
    "        "
   ]
  },
  {
   "cell_type": "code",
   "execution_count": null,
   "id": "4c6afb93-527c-4f35-a8fa-44637765b6cd",
   "metadata": {},
   "outputs": [],
   "source": [
    "fig, ax = plt.subplots(1,4, figsize=(8, 2))\n",
    "for i in range(len(sim_intensities_all)):\n",
    "    im = ax[i].imshow(sim_intensities_all[i].cpu().T)\n",
    "    ax[i].set_title(f\"{camera_params[i]['name']}\")\n",
    "    ax[i].axis('off')\n",
    "    #fig.colorbar(im)\n",
    "    #im.set_clim(vmin = 0,vmax = 12700)\n",
    "    \n",
    "plt.tight_layout() "
   ]
  },
  {
   "cell_type": "markdown",
   "id": "2cd5ffaf-9204-4bc9-a3c0-a10456c16f65",
   "metadata": {},
   "source": [
    "### Normalize the max value for apparatus data according the simulation result"
   ]
  },
  {
   "cell_type": "code",
   "execution_count": null,
   "id": "23df9f3c-b7b2-4ed3-8a59-716d26b37812",
   "metadata": {},
   "outputs": [],
   "source": [
    "data_intensities_all_n = []\n",
    "for idx,cam in enumerate(camera_list):\n",
    "    data_intensities_all_n.append(data_intensities_all[idx]*torch.max(sim_intensities_all[idx]).item()/255)"
   ]
  },
  {
   "cell_type": "code",
   "execution_count": null,
   "id": "cabc3e20-5c24-4569-9930-df6094182eae",
   "metadata": {},
   "outputs": [],
   "source": [
    "fig, ax = plt.subplots(1,4, figsize=(8, 2))\n",
    "for i in range(len(camera_list)):\n",
    "    im = ax[i].imshow(data_intensities_all_n[i].T)\n",
    "    ax[i].axis('off')\n",
    "    ax[i].set_title(camera_list[i])\n",
    "    im.set_clim(vmin = 0,vmax = 12700)\n",
    "plt.tight_layout()\n",
    "#plt.savefig(\"camera_data\", dpi=800)\n",
    "plt.show()"
   ]
  },
  {
   "cell_type": "code",
   "execution_count": null,
   "id": "0fc78174-a5ee-4701-87c6-136ea46b6223",
   "metadata": {},
   "outputs": [],
   "source": [
    "# export normalized data for use in reconstruction\n",
    "with open(\"NW_mot_images.pkl\", \"wb\") as f:\n",
    "    pickle.dump(data_intensities_all_n, f)"
   ]
  }
 ],
 "metadata": {
  "kernelspec": {
   "display_name": "Python 3 (ipykernel)",
   "language": "python",
   "name": "python3"
  },
  "language_info": {
   "codemirror_mode": {
    "name": "ipython",
    "version": 3
   },
   "file_extension": ".py",
   "mimetype": "text/x-python",
   "name": "python",
   "nbconvert_exporter": "python",
   "pygments_lexer": "ipython3",
   "version": "3.8.17"
  }
 },
 "nbformat": 4,
 "nbformat_minor": 5
}
