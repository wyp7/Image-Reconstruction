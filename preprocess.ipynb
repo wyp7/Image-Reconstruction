{
 "cells": [
  {
   "cell_type": "markdown",
   "metadata": {},
   "source": [
    "## Preprocess raw images from camera for 3D reconstruction\n",
    "\n",
    "- background subtraction\n",
    "- find center position of atom clouds\n",
    "    - crop into samples where the cloud is centered and in the right format for reconstruction\n",
    "    - calibrate cloud moving direction on each camera with different time-of-flight(tof) data\n",
    "\n"
   ]
  },
  {
   "cell_type": "code",
   "execution_count": 133,
   "metadata": {},
   "outputs": [],
   "source": [
    "import cv2\n",
    "import matplotlib.pyplot as plt\n",
    "import numpy as np\n",
    "from PIL import Image\n",
    "from scipy import ndimage\n",
    "import os\n",
    "import pickle\n",
    "import csv\n",
    "\n",
    "path =  os.getcwd()\n",
    "path = path.replace('\\\\', r\"\\\\\")\n",
    "\n",
    "cam_list = [\"T1\",\"T2\",\"L\",\"F\"]\n",
    "tof_list = [\"0\",\"2500us\",\"3000us\",\"3500us\",\"4000us\",\"4500us\",\"5000us\"]\n",
    "\n",
    "# camera gain values correspond to tof_list\n",
    "g_F = [42,42,42,48,48,48,48]\n",
    "g_L = [48,48,48,48,48,48,48]\n",
    "g_T = [30,30,30,35,35,35,42]\n",
    "\n"
   ]
  },
  {
   "cell_type": "code",
   "execution_count": 38,
   "metadata": {},
   "outputs": [],
   "source": [
    "def import_img(cam,tof,plot=0,tof_bg = None):\n",
    "    # import images from cam, of certain tof\n",
    "    # subtract background when specified\n",
    "\n",
    "    file_name = path + \"\\\\\" + cam + \"_\" + tof + \".png\"\n",
    "    # import png as grayscale and convert unit8 to int\n",
    "    img = cv2.imread(file_name,0).astype(int)\n",
    "\n",
    "    # background subtraction\n",
    "    if tof_bg != None:\n",
    "        file_name0 = path + \"\\\\\" + cam + \"_\" + tof_bg + \".png\"\n",
    "        img0 = cv2.imread(file_name0,0).astype(int)\n",
    "        img -= img0\n",
    "\n",
    "    if plot == 1:\n",
    "        plt.imshow(img)\n",
    "        plt.colorbar()\n",
    "        plt.axis(\"off\")\n",
    "        plt.clim([0,256])\n",
    "        plt.show()\n",
    "\n",
    "    return img\n",
    "\n"
   ]
  },
  {
   "cell_type": "code",
   "execution_count": 73,
   "metadata": {},
   "outputs": [],
   "source": [
    "def centersample(cam,cam0,wx,wy,rotation = 0,plot=0):\n",
    "\n",
    "    # rotation of the image\n",
    "    if rotation != 0:\n",
    "        img = ndimage.rotate(cam0, -30)\n",
    "    \n",
    "    # find center of the atom cloud by finding the max val position of sum along each axis\n",
    "    x0 = np.argmax(cam0.sum(axis=0))\n",
    "    y0 = np.argmax(cam0.sum(axis=1))\n",
    "\n",
    "    # the sample should be centered in the newimg frame\n",
    "    newimg = cam0[(y0-wy):(y0+wy),(x0-wx):(x0+wx)]\n",
    "\n",
    "    # apply mask for the F camera to remove refelction spots\n",
    "    if cam == 'F':\n",
    "        mask = np.zeros_like(newimg, dtype=bool)\n",
    "\n",
    "        mask[wy-300:wy+300, wx-300:wx+300] = True\n",
    "        newimg[~mask] = 0\n",
    "    \n",
    "    if plot!=0:\n",
    "        plt.imshow(newimg,aspect='equal',cmap='gray', vmin=0, vmax=255)\n",
    "        #plt.plot(x0,y0)\n",
    "        plt.clim([0,256])\n",
    "        plt.colorbar()\n",
    "        plt.show()\n",
    "\n",
    "    return x0, y0, newimg"
   ]
  },
  {
   "cell_type": "markdown",
   "metadata": {},
   "source": [
    "## Process raw images"
   ]
  },
  {
   "cell_type": "markdown",
   "metadata": {},
   "source": [
    "#### F"
   ]
  },
  {
   "cell_type": "code",
   "execution_count": 127,
   "metadata": {},
   "outputs": [],
   "source": [
    "cam = \"F\"\n",
    "F_center_position = []\n",
    "\n",
    "for idx,tof in enumerate(tof_list):\n",
    "    # different tof may correspond to different camera gain, therefore different background\n",
    "    bg = \"bg_\"+str(g_F[idx])\n",
    "    F = import_img(cam,tof,0,bg)\n",
    "    x0,y0,Fc = centersample(cam,F,800,800,0)\n",
    "    F_center_position.append([x0,y0])\n",
    "    \n",
    "    with open(path+\"\\\\rec\\\\\"+cam+'_'+tof+'.pkl', 'wb') as f:\n",
    "        pickle.dump(Fc, f)\n",
    "\n",
    "with open(path+\"\\\\rec\\\\\"+cam + \"_center.csv\", mode='w', newline='') as file:\n",
    "    writer = csv.writer(file)\n",
    "    writer.writerow(['X','Y'])\n",
    "    writer.writerows(F_center_position)"
   ]
  },
  {
   "cell_type": "markdown",
   "metadata": {},
   "source": [
    "#### T1"
   ]
  },
  {
   "cell_type": "code",
   "execution_count": 129,
   "metadata": {},
   "outputs": [],
   "source": [
    "cam = \"T1\"\n",
    "T1_center_position = []\n",
    "for idx,tof in enumerate(tof_list):\n",
    "    \n",
    "    plotshow =0\n",
    "    F = import_img(cam,tof,plotshow)\n",
    "    if idx<=1:\n",
    "        x0,y0,Fc = centersample(cam,F,400,400,0,plotshow)\n",
    "    if idx == 6:\n",
    "        x0,y0,Fc = centersample(cam,F,500,400,0,plotshow)\n",
    "    if idx>1 and idx<6:\n",
    "        x0,y0,Fc = centersample(cam,F,600,400,0,plotshow)\n",
    "\n",
    "    T1_center_position.append([x0,y0])\n",
    "    with open(path+\"\\\\rec\\\\\"+cam+'_'+tof+'.pkl', 'wb') as f:\n",
    "        pickle.dump(Fc, f)\n",
    "\n",
    "with open(path+\"\\\\rec\\\\\"+cam + \"_center.csv\", mode='w', newline='') as file:\n",
    "    writer = csv.writer(file)\n",
    "    writer.writerow(['X','Y'])\n",
    "    writer.writerows(T1_center_position)"
   ]
  },
  {
   "cell_type": "markdown",
   "metadata": {},
   "source": [
    "#### T2"
   ]
  },
  {
   "cell_type": "code",
   "execution_count": 130,
   "metadata": {},
   "outputs": [],
   "source": [
    "cam = \"T2\"\n",
    "T2_center_position = []\n",
    "for idx,tof in enumerate(tof_list):\n",
    "    plotshow =0\n",
    "    F = import_img(cam,tof,plotshow)\n",
    "    if idx<1:\n",
    "        x0,y0,Fc = centersample(cam,F,500,550,0,plotshow)\n",
    "    else:\n",
    "        x0,y0,Fc = centersample(cam,F,600,550,0,plotshow)\n",
    "\n",
    "    T2_center_position.append([x0,y0])\n",
    "    with open(path+\"\\\\rec\\\\\"+cam+'_'+tof+'.pkl', 'wb') as f:\n",
    "        pickle.dump(Fc, f)\n",
    "        \n",
    "with open(path+\"\\\\rec\\\\\"+cam + \"_center.csv\", mode='w', newline='') as file:\n",
    "    writer = csv.writer(file)\n",
    "    writer.writerow(['X','Y'])\n",
    "    writer.writerows(T2_center_position)"
   ]
  },
  {
   "cell_type": "markdown",
   "metadata": {},
   "source": [
    "#### L"
   ]
  },
  {
   "cell_type": "code",
   "execution_count": 131,
   "metadata": {},
   "outputs": [],
   "source": [
    "cam = \"L\"\n",
    "L_center_position = []\n",
    "for idx,tof in enumerate(tof_list):\n",
    "    \n",
    "    plotshow  = 0\n",
    "    F = import_img(cam,tof,plotshow)\n",
    "    # remove the bright spot on top right corner\n",
    "    F[:,1600:]=0\n",
    "    if idx<2:\n",
    "        x0,y0,Fc = centersample(cam,F,700,550,0,plotshow)\n",
    "    else:\n",
    "        x0,y0,Fc = centersample(cam,F,700,450,0,plotshow)\n",
    "\n",
    "\n",
    "    L_center_position.append([x0,y0])\n",
    "    with open(path+\"\\\\rec\\\\\"+cam+'_'+tof+'.pkl', 'wb') as f:\n",
    "        pickle.dump(Fc, f)\n",
    "\n",
    "with open(path+\"\\\\rec\\\\\"+cam + \"_center.csv\", mode='w', newline='') as file:\n",
    "    writer = csv.writer(file)\n",
    "    writer.writerow(['X','Y'])\n",
    "    writer.writerows(L_center_position)"
   ]
  },
  {
   "cell_type": "markdown",
   "metadata": {},
   "source": [
    "## plot center trajectory"
   ]
  },
  {
   "cell_type": "code",
   "execution_count": 117,
   "metadata": {},
   "outputs": [
    {
     "data": {
      "text/plain": [
       "Text(0.5, 1.0, 'F')"
      ]
     },
     "execution_count": 117,
     "metadata": {},
     "output_type": "execute_result"
    },
    {
     "data": {
      "image/png": "[encoded data removed]",
      "text/plain": [
       "<Figure size 640x480 with 1 Axes>"
      ]
     },
     "metadata": {},
     "output_type": "display_data"
    }
   ],
   "source": [
    "F_p = np.array(F_center_position)\n",
    "plt.scatter(F_p[:,0],-F_p[:,1])\n",
    "plt.ylim([-1100,-950])\n",
    "plt.gca().set_aspect('equal', adjustable='box')\n",
    "plt.title(\"F\")"
   ]
  },
  {
   "cell_type": "code",
   "execution_count": 118,
   "metadata": {},
   "outputs": [
    {
     "data": {
      "text/plain": [
       "Text(0.5, 1.0, 'T1')"
      ]
     },
     "execution_count": 118,
     "metadata": {},
     "output_type": "execute_result"
    },
    {
     "data": {
      "image/png": "[encoded data removed]",
      "text/plain": [
       "<Figure size 640x480 with 1 Axes>"
      ]
     },
     "metadata": {},
     "output_type": "display_data"
    }
   ],
   "source": [
    "T1_p = np.array(T1_center_position)\n",
    "plt.scatter(T1_p[:,0],-T1_p[:,1])\n",
    "plt.ylim([-300,-500])\n",
    "plt.gca().set_aspect('equal', adjustable='box')\n",
    "plt.title(\"T1\")"
   ]
  },
  {
   "cell_type": "code",
   "execution_count": 119,
   "metadata": {},
   "outputs": [
    {
     "data": {
      "text/plain": [
       "Text(0.5, 1.0, 'T2')"
      ]
     },
     "execution_count": 119,
     "metadata": {},
     "output_type": "execute_result"
    },
    {
     "data": {
      "image/png": "[encoded data removed]",
      "text/plain": [
       "<Figure size 640x480 with 1 Axes>"
      ]
     },
     "metadata": {},
     "output_type": "display_data"
    }
   ],
   "source": [
    "T2_p = np.array(T2_center_position)\n",
    "plt.scatter(T2_p[:,0],-T2_p[:,1])\n",
    "plt.ylim([-800,-400])\n",
    "plt.gca().set_aspect('equal', adjustable='box')\n",
    "plt.title(\"T2\")"
   ]
  },
  {
   "cell_type": "code",
   "execution_count": 134,
   "metadata": {},
   "outputs": [
    {
     "data": {
      "text/plain": [
       "Text(0.5, 1.0, 'L')"
      ]
     },
     "execution_count": 134,
     "metadata": {},
     "output_type": "execute_result"
    },
    {
     "data": {
      "image/png": "[encoded data removed]",
      "text/plain": [
       "<Figure size 640x480 with 1 Axes>"
      ]
     },
     "metadata": {},
     "output_type": "display_data"
    }
   ],
   "source": [
    "L_p = np.array(L_center_position)\n",
    "plt.scatter(L_p[:,0],-L_p[:,1])\n",
    "plt.gca().set_aspect('equal', adjustable='box')\n",
    "plt.title(\"L\")"
   ]
  }
 ],
 "metadata": {
  "kernelspec": {
   "display_name": "base",
   "language": "python",
   "name": "python3"
  },
  "language_info": {
   "codemirror_mode": {
    "name": "ipython",
    "version": 3
   },
   "file_extension": ".py",
   "mimetype": "text/x-python",
   "name": "python",
   "nbconvert_exporter": "python",
   "pygments_lexer": "ipython3",
   "version": "3.11.4"
  },
  "orig_nbformat": 4
 },
 "nbformat": 4,
 "nbformat_minor": 2
}
